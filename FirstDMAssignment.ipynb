{
 "cells": [
  {
   "cell_type": "code",
   "execution_count": 72,
   "metadata": {},
   "outputs": [
    {
     "name": "stdout",
     "output_type": "stream",
     "text": [
      "   Rec_ID  GeneID  Colour Cell_Cycle_Cat  Cell_Cycle_Number  Gene_Induction  \\\n",
      "0       1  790958  Yellow          21-28                 21               1   \n",
      "1       2  790961  Yellow          13-20                 17               1   \n",
      "2       3  791100  Yellow          13-20                 19               1   \n",
      "3       4  791101   Green          21-28                 28               0   \n",
      "4       5  791102     Red          13-20                 16               1   \n",
      "\n",
      "  Symbol LocusTag   Synonyms                     dbXrefs chromosome  \\\n",
      "0  IGF2R        -  M6P/IGF2R  Ensembl:ENSOANG00000007296          2   \n",
      "1    F10        -          -  Ensembl:ENSOANG00000015639         20   \n",
      "2    CFD        -          -  Ensembl:ENSOANG00000009191         X1   \n",
      "3  SPA17        -          -  Ensembl:ENSOANG00000040613         11   \n",
      "4   IGF2        -          -  Ensembl:ENSOANG00000047292          3   \n",
      "\n",
      "                             description    type_of_gene  \\\n",
      "0  insulin like growth factor 2 receptor  protein-coding   \n",
      "1                   coagulation factor X  protein-coding   \n",
      "2                    complement factor D  protein-coding   \n",
      "3         sperm autoantigenic protein 17  protein-coding   \n",
      "4           insulin like growth factor 2  protein-coding   \n",
      "\n",
      "                                  Other_designations   Class  \n",
      "0  cation-independent mannose-6-phosphate recepto...  Animal  \n",
      "1                               coagulation factor X  Animal  \n",
      "2                        complement factor D|adipsin  Animal  \n",
      "3                         sperm surface protein Sp17  Animal  \n",
      "4  insulin-like growth factor II|insulin-like gro...  Animal  \n"
     ]
    }
   ],
   "source": [
    "import pandas as pd\n",
    "import requests\n",
    "import io\n",
    "import numpy as np\n",
    "    \n",
    "# Downloading the csv file from your GitHub account\n",
    "\n",
    "url = \"https://raw.githubusercontent.com/ravikanthranjith/BITS-DM-ASSIGNMENT/master/GeneData.csv\" # Make sure the url is the raw version of the file on GitHub\n",
    "download = requests.get(url).content\n",
    "\n",
    "# Reading the downloaded content and turning it into a pandas dataframe\n",
    "\n",
    "df_gene = pd.read_csv(io.StringIO(download.decode('utf-8')))\n",
    "\n",
    "# Printing out the first 5 rows of the dataframe\n",
    "\n",
    "print (df.head())"
   ]
  },
  {
   "cell_type": "code",
   "execution_count": 73,
   "metadata": {},
   "outputs": [
    {
     "data": {
      "text/plain": [
       "Rec_ID                 int64\n",
       "GeneID                 int64\n",
       "Colour                object\n",
       "Cell_Cycle_Cat        object\n",
       "Cell_Cycle_Number      int64\n",
       "Gene_Induction         int64\n",
       "Symbol                object\n",
       "LocusTag              object\n",
       "Synonyms              object\n",
       "dbXrefs               object\n",
       "chromosome            object\n",
       "description           object\n",
       "type_of_gene          object\n",
       "Other_designations    object\n",
       "Class                 object\n",
       "dtype: object"
      ]
     },
     "execution_count": 73,
     "metadata": {},
     "output_type": "execute_result"
    }
   ],
   "source": [
    "df_gene.dtypes"
   ]
  },
  {
   "cell_type": "code",
   "execution_count": null,
   "metadata": {},
   "outputs": [],
   "source": [
    "# for data visualization\n",
    "#import seaborn as sns \n",
    "#import matplotlib.pylab as plt\n",
    "#corr = df_gene.corr()\n",
    "#sns.heatmap(corr)\n",
    "#print(df_gene.apply(pd.Series.count))"
   ]
  },
  {
   "cell_type": "code",
   "execution_count": 78,
   "metadata": {},
   "outputs": [
    {
     "data": {
      "text/html": [
       "<div>\n",
       "<style scoped>\n",
       "    .dataframe tbody tr th:only-of-type {\n",
       "        vertical-align: middle;\n",
       "    }\n",
       "\n",
       "    .dataframe tbody tr th {\n",
       "        vertical-align: top;\n",
       "    }\n",
       "\n",
       "    .dataframe thead th {\n",
       "        text-align: right;\n",
       "    }\n",
       "</style>\n",
       "<table border=\"1\" class=\"dataframe\">\n",
       "  <thead>\n",
       "    <tr style=\"text-align: right;\">\n",
       "      <th></th>\n",
       "      <th>Rec_ID</th>\n",
       "      <th>GeneID</th>\n",
       "      <th>Cell_Cycle_Number</th>\n",
       "      <th>Gene_Induction</th>\n",
       "    </tr>\n",
       "  </thead>\n",
       "  <tbody>\n",
       "    <tr>\n",
       "      <th>count</th>\n",
       "      <td>4000.000000</td>\n",
       "      <td>4.000000e+03</td>\n",
       "      <td>4000.000000</td>\n",
       "      <td>4000.000000</td>\n",
       "    </tr>\n",
       "    <tr>\n",
       "      <th>mean</th>\n",
       "      <td>2000.500000</td>\n",
       "      <td>9.360408e+07</td>\n",
       "      <td>17.507750</td>\n",
       "      <td>0.665500</td>\n",
       "    </tr>\n",
       "    <tr>\n",
       "      <th>std</th>\n",
       "      <td>1154.844867</td>\n",
       "      <td>2.408665e+07</td>\n",
       "      <td>6.109564</td>\n",
       "      <td>0.471874</td>\n",
       "    </tr>\n",
       "    <tr>\n",
       "      <th>min</th>\n",
       "      <td>1.000000</td>\n",
       "      <td>7.909580e+05</td>\n",
       "      <td>5.000000</td>\n",
       "      <td>0.000000</td>\n",
       "    </tr>\n",
       "    <tr>\n",
       "      <th>25%</th>\n",
       "      <td>1000.750000</td>\n",
       "      <td>1.000741e+08</td>\n",
       "      <td>13.000000</td>\n",
       "      <td>0.000000</td>\n",
       "    </tr>\n",
       "    <tr>\n",
       "      <th>50%</th>\n",
       "      <td>2000.500000</td>\n",
       "      <td>1.000754e+08</td>\n",
       "      <td>18.000000</td>\n",
       "      <td>1.000000</td>\n",
       "    </tr>\n",
       "    <tr>\n",
       "      <th>75%</th>\n",
       "      <td>3000.250000</td>\n",
       "      <td>1.026072e+08</td>\n",
       "      <td>22.000000</td>\n",
       "      <td>1.000000</td>\n",
       "    </tr>\n",
       "    <tr>\n",
       "      <th>max</th>\n",
       "      <td>4000.000000</td>\n",
       "      <td>1.026083e+08</td>\n",
       "      <td>28.000000</td>\n",
       "      <td>1.000000</td>\n",
       "    </tr>\n",
       "  </tbody>\n",
       "</table>\n",
       "</div>"
      ],
      "text/plain": [
       "            Rec_ID        GeneID  Cell_Cycle_Number  Gene_Induction\n",
       "count  4000.000000  4.000000e+03        4000.000000     4000.000000\n",
       "mean   2000.500000  9.360408e+07          17.507750        0.665500\n",
       "std    1154.844867  2.408665e+07           6.109564        0.471874\n",
       "min       1.000000  7.909580e+05           5.000000        0.000000\n",
       "25%    1000.750000  1.000741e+08          13.000000        0.000000\n",
       "50%    2000.500000  1.000754e+08          18.000000        1.000000\n",
       "75%    3000.250000  1.026072e+08          22.000000        1.000000\n",
       "max    4000.000000  1.026083e+08          28.000000        1.000000"
      ]
     },
     "execution_count": 78,
     "metadata": {},
     "output_type": "execute_result"
    }
   ],
   "source": [
    "df_gene.describe()\n"
   ]
  },
  {
   "cell_type": "code",
   "execution_count": 80,
   "metadata": {},
   "outputs": [
    {
     "name": "stdout",
     "output_type": "stream",
     "text": [
      "<class 'pandas.core.frame.DataFrame'>\n",
      "RangeIndex: 4000 entries, 0 to 3999\n",
      "Data columns (total 15 columns):\n",
      "Rec_ID                4000 non-null int64\n",
      "GeneID                4000 non-null int64\n",
      "Colour                4000 non-null object\n",
      "Cell_Cycle_Cat        4000 non-null object\n",
      "Cell_Cycle_Number     4000 non-null int64\n",
      "Gene_Induction        4000 non-null int64\n",
      "Symbol                4000 non-null object\n",
      "LocusTag              4000 non-null object\n",
      "Synonyms              4000 non-null object\n",
      "dbXrefs               4000 non-null object\n",
      "chromosome            4000 non-null object\n",
      "description           4000 non-null object\n",
      "type_of_gene          4000 non-null object\n",
      "Other_designations    4000 non-null object\n",
      "Class                 4000 non-null object\n",
      "dtypes: int64(4), object(11)\n",
      "memory usage: 468.8+ KB\n"
     ]
    }
   ],
   "source": [
    "df.info()"
   ]
  },
  {
   "cell_type": "code",
   "execution_count": null,
   "metadata": {},
   "outputs": [],
   "source": [
    "#Replacing the '-' values with NaN\n",
    "df_gene=df_gene.replace('-', np.nan)\n",
    "#.astype(\"object\")"
   ]
  },
  {
   "cell_type": "code",
   "execution_count": 81,
   "metadata": {},
   "outputs": [
    {
     "data": {
      "text/html": [
       "<div>\n",
       "<style scoped>\n",
       "    .dataframe tbody tr th:only-of-type {\n",
       "        vertical-align: middle;\n",
       "    }\n",
       "\n",
       "    .dataframe tbody tr th {\n",
       "        vertical-align: top;\n",
       "    }\n",
       "\n",
       "    .dataframe thead th {\n",
       "        text-align: right;\n",
       "    }\n",
       "</style>\n",
       "<table border=\"1\" class=\"dataframe\">\n",
       "  <thead>\n",
       "    <tr style=\"text-align: right;\">\n",
       "      <th></th>\n",
       "      <th>Total</th>\n",
       "      <th>%</th>\n",
       "    </tr>\n",
       "  </thead>\n",
       "  <tbody>\n",
       "    <tr>\n",
       "      <th>Synonyms</th>\n",
       "      <td>3822</td>\n",
       "      <td>95.6</td>\n",
       "    </tr>\n",
       "    <tr>\n",
       "      <th>LocusTag</th>\n",
       "      <td>3350</td>\n",
       "      <td>83.8</td>\n",
       "    </tr>\n",
       "    <tr>\n",
       "      <th>dbXrefs</th>\n",
       "      <td>2390</td>\n",
       "      <td>59.8</td>\n",
       "    </tr>\n",
       "    <tr>\n",
       "      <th>Other_designations</th>\n",
       "      <td>449</td>\n",
       "      <td>11.2</td>\n",
       "    </tr>\n",
       "    <tr>\n",
       "      <th>chromosome</th>\n",
       "      <td>311</td>\n",
       "      <td>7.8</td>\n",
       "    </tr>\n",
       "  </tbody>\n",
       "</table>\n",
       "</div>"
      ],
      "text/plain": [
       "                    Total     %\n",
       "Synonyms             3822  95.6\n",
       "LocusTag             3350  83.8\n",
       "dbXrefs              2390  59.8\n",
       "Other_designations    449  11.2\n",
       "chromosome            311   7.8"
      ]
     },
     "execution_count": 81,
     "metadata": {},
     "output_type": "execute_result"
    }
   ],
   "source": [
    "#Getting Percentages of the Missing values in the respective columns\n",
    "total = df_gene.isnull().sum().sort_values(ascending=False)\n",
    "percent_1 = df_gene.isnull().sum()/df_gene.isnull().count()*100\n",
    "percent_2 = (round(percent_1, 1)).sort_values(ascending=False)\n",
    "missing_data = pd.concat([total, percent_2], axis=1, keys=['Total', '%'])\n",
    "missing_data.head(5)"
   ]
  },
  {
   "cell_type": "code",
   "execution_count": null,
   "metadata": {},
   "outputs": [],
   "source": [
    "df_gene.replace('-',np.nan)"
   ]
  },
  {
   "cell_type": "code",
   "execution_count": 79,
   "metadata": {},
   "outputs": [],
   "source": []
  },
  {
   "cell_type": "code",
   "execution_count": null,
   "metadata": {
    "scrolled": true
   },
   "outputs": [],
   "source": [
    "df_gene.head(5)"
   ]
  },
  {
   "cell_type": "code",
   "execution_count": null,
   "metadata": {},
   "outputs": [],
   "source": [
    "df_gene['Colour'].value_counts()"
   ]
  },
  {
   "cell_type": "code",
   "execution_count": null,
   "metadata": {},
   "outputs": [],
   "source": [
    "#Getting number of Unique column values in a dataSet\n",
    "df_gene.nunique()"
   ]
  },
  {
   "cell_type": "code",
   "execution_count": null,
   "metadata": {},
   "outputs": [],
   "source": [
    "df_gene.describe()"
   ]
  },
  {
   "cell_type": "code",
   "execution_count": null,
   "metadata": {},
   "outputs": [],
   "source": [
    "\n",
    "df_gene[\"Class\"] = np.where(df_gene[\"Class\"].str.contains(\"Ani\"), 1, other=0)"
   ]
  },
  {
   "cell_type": "code",
   "execution_count": null,
   "metadata": {},
   "outputs": [],
   "source": [
    "df_gene[\"Class\"]"
   ]
  },
  {
   "cell_type": "code",
   "execution_count": null,
   "metadata": {},
   "outputs": [],
   "source": [
    "df_gene.dtypes"
   ]
  },
  {
   "cell_type": "code",
   "execution_count": null,
   "metadata": {},
   "outputs": [],
   "source": [
    "df_gene[\"Class\"] = df_gene[\"Class\"].astype('category')"
   ]
  },
  {
   "cell_type": "code",
   "execution_count": null,
   "metadata": {},
   "outputs": [],
   "source": []
  }
 ],
 "metadata": {
  "kernelspec": {
   "display_name": "Python [default]",
   "language": "python",
   "name": "python3"
  },
  "language_info": {
   "codemirror_mode": {
    "name": "ipython",
    "version": 3
   },
   "file_extension": ".py",
   "mimetype": "text/x-python",
   "name": "python",
   "nbconvert_exporter": "python",
   "pygments_lexer": "ipython3",
   "version": "3.7.0"
  }
 },
 "nbformat": 4,
 "nbformat_minor": 2
}
